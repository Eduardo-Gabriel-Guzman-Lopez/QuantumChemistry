{
  "nbformat": 4,
  "nbformat_minor": 0,
  "metadata": {
    "colab": {
      "provenance": [],
      "toc_visible": true
    },
    "kernelspec": {
      "name": "python3",
      "display_name": "Python 3"
    },
    "language_info": {
      "name": "python"
    }
  },
  "cells": [
    {
      "cell_type": "markdown",
      "source": [
        "# CUANTIZACIÓN DE LA MATERIA Y LA ENERGÍA"
      ],
      "metadata": {
        "id": "A5jdbkIgzEL9"
      }
    },
    {
      "cell_type": "markdown",
      "source": [
        "## **Ejemplo desarrollado 1**\n",
        "\n",
        "Calcule el número de fotones emitidos por una bombilla de luz amarilla de 100W en 1.0s. Considere que la longitud de onda de la luz es de 560nm y suponga un 100% de eficiencia."
      ],
      "metadata": {
        "id": "bH_sE_UgzfLg"
      }
    },
    {
      "cell_type": "markdown",
      "source": [
        "### RAZONAMIENTO\n",
        "\n",
        "Los fotones tienen una energía $E_{\\text{fotón}}=h\\nu$ y estableciendo que la energía total emitida por la bombilla debe estar compuesta por N fotónes, todos idénticos, entonces podemos escribir la energía total como:\n",
        "\n",
        "$$ E_{\\text{Total}}=NE_{\\text{fotón}} = Nh\\nu$$"
      ],
      "metadata": {
        "id": "R3D8wshS0Xin"
      }
    },
    {
      "cell_type": "code",
      "source": [
        "import math\n",
        "\n",
        "# Constantes\n",
        "h_planck = 6.62607015e-34     # Constante de Planck en J·s\n",
        "c_luz = 3.00e8                # Velocidad de la luz en m/s\n",
        "lambda_foton = 560e-9         # Longitud de onda de la radiación en metros\n",
        "potencia_foco = 100           # Potencia medida en Watts\n",
        "tiempo_emision = 1.0          # Cantidad de tiempo de emisión en segundos\n",
        "\n",
        "Numero_de_fotones = lambda_foton*potencia_foco*tiempo_emision / (h_planck*c_luz)\n",
        "\n",
        "print(f'El número de fotones emitido es {Numero_de_fotones:.2e}.')"
      ],
      "metadata": {
        "colab": {
          "base_uri": "https://localhost:8080/"
        },
        "id": "0XbtquJ83ASz",
        "outputId": "23fbf9de-223c-4197-e390-04793c6c946a"
      },
      "execution_count": 7,
      "outputs": [
        {
          "output_type": "stream",
          "name": "stdout",
          "text": [
            "El número de fotones emitido es 2.82e+20.\n"
          ]
        }
      ]
    },
    {
      "cell_type": "markdown",
      "source": [
        "# EFECTO FOTOELÉCTRICO\n",
        "\n"
      ],
      "metadata": {
        "id": "0hwFEJtOZxeL"
      }
    },
    {
      "cell_type": "markdown",
      "source": [
        "## **Ejemplo desarrollado 2**\n",
        "\n",
        "Estimar la longitud de onda de electrones que son acelerados desde el reposo mediante una diferencia de potencial de 40 kV.\n"
      ],
      "metadata": {
        "id": "dIyI0u1-64bq"
      }
    },
    {
      "cell_type": "markdown",
      "source": [
        "### **RAZONAMIENTO**\n",
        "\n",
        "Se puede hacer uso de la ecuación de De Broglie, la cual relaciona la longitud de onda de una partícula con su momento lineal:\n",
        "\n",
        "$$\n",
        "\\lambda = \\frac{h}{p}\n",
        "$$\n",
        "\n",
        "donde:\n",
        "- $\\lambda$ es la longitud de onda de la partícula (en metros),\n",
        "- $h$ es la constante de Planck ($6.626 \\times 10^{-34} \\, \\text{Js}$),\n",
        "- $p$ es el momento lineal de la partícula (en kg m/s).\n",
        "\n",
        "Para un electrón acelerado desde el reposo mediante una diferencia de potencial $V$, su energía cinética ($E_k$) se puede calcular como:\n",
        "\n",
        "$$\n",
        "E_k = eV\n",
        "$$\n",
        "\n",
        "donde:\n",
        "- $e$ es la carga del electrón ($1.602 \\times 10^{-19} \\, \\text{C}$),\n",
        "- $V$ es la diferencia de potencial (en voltios).\n",
        "\n",
        "La energía cinética también se puede relacionar con el momento lineal por la siguiente ecuación en el contexto relativista:\n",
        "\n",
        "$$\n",
        "E_k = \\sqrt{p^2c^2 + m^2c^4} - mc^2\n",
        "$$\n",
        "\n",
        "Para bajas energías (no relativistas), esto se simplifica a:\n",
        "\n",
        "$$\n",
        "E_k = \\frac{p^2}{2m}\n",
        "$$\n",
        "\n",
        "Resolviendo para $p$ y sustituyendo en la ecuación de De Broglie, obtenemos:\n",
        "\n",
        "$$\n",
        "\\lambda = \\frac{h}{\\sqrt{2mE_k}} = \\frac{h}{\\sqrt{2meV}}\n",
        "$$\n",
        "\n",
        "Sustituyendo los valores conocidos ($h$, $m$, $e$, y $V = 40,000 \\, \\text{V}$), podemos calcular $\\lambda$.\n"
      ],
      "metadata": {
        "id": "BorYwjNm7zn-"
      }
    },
    {
      "cell_type": "code",
      "source": [
        "import math\n",
        "\n",
        "# Constantes\n",
        "h = 6.62607015e-34  # Constante de Planck en J·s\n",
        "m_e = 9.10938356e-31  # Masa del electrón en kg\n",
        "e = 1.602176634e-19  # Carga del electrón en C\n",
        "V = 60e3  # Diferencia de potencial en V (40 kV)\n",
        "\n",
        "# Calculando la longitud de onda λ = h / sqrt(2*m_e*V*e)\n",
        "lambda_e = h / math.sqrt(2 * m_e * V * e)\n",
        "\n",
        "# Imprimir la longitud de onda en metros\n",
        "print(f\"La longitud de onda de los electrones es: {lambda_e:.2e} metros\")\n"
      ],
      "metadata": {
        "id": "dQlD1NZ3Z-Ok",
        "colab": {
          "base_uri": "https://localhost:8080/"
        },
        "outputId": "a733a712-7ed2-4446-c3ad-969f5516d3ea"
      },
      "execution_count": null,
      "outputs": [
        {
          "output_type": "stream",
          "name": "stdout",
          "text": [
            "La longitud de onda de los electrones es: 5.01e-12 metros\n"
          ]
        }
      ]
    },
    {
      "cell_type": "markdown",
      "source": [
        "##**Ejemplo desarrollado 3**\n",
        "\n",
        "Las aproximaciones en regimen relativista son importantes para electrones internos que se mueven en átomos pesados, por ejemplo, en química es común hacer correcciones de este tipo para los electrones cerca de los núcleos de los átomos de oro debido a la intensa atracción electrostática del núcleo.\n",
        "\n",
        "$$\n",
        "p=\\gamma mv \\phantom{aaa}y \\phantom{aaa} \\gamma=\\frac{1}{\\sqrt{1-\\frac{v^2}{c^2}}}\n",
        "$$\n",
        "\n",
        "Determine la longitud de onda de Broglie para un electrón interno de Oro, que se mueve aproximadamente a:\n",
        "\n",
        "*   0.001\n",
        "*   0.01c\n",
        "*   0.10c\n",
        "*   0.50c\n",
        "*   0.90c\n",
        "*   0.99c\n",
        "\n",
        "1. Discuta la radiación que sería detectada a partir del movimiento de esos electrones\n",
        "\n",
        "2. Estime la velocidad a la que deben ser acelerados los electrones en un sincrotón para poder obtener radiación de Rayos X"
      ],
      "metadata": {
        "id": "kKaqn41tHNRB"
      }
    },
    {
      "cell_type": "markdown",
      "source": [
        "###RAZONAMIENTO\n",
        "\n",
        "Primero  calcular el momento del electrón bajo condiciones relativistas y luego aplicar la fórmula de la longitud de onda de De Broglie.\n",
        "\n",
        "\n",
        "### Paso 1: Calcular el Factor Gamma de Lorentz ($\\gamma$)\n",
        "El factor de Lorentz se calcula como:\n",
        "\n",
        "$$\n",
        "\\gamma = \\frac{1}{\\sqrt{1 - \\frac{v^2}{c^2}}}\n",
        "$$\n",
        "\n",
        "Sustituyendo \\(v = 0.9c\\):\n",
        "\n",
        "$$\n",
        "\\gamma = \\frac{1}{\\sqrt{1 - (0.9)^2}} = \\frac{1}{\\sqrt{1 - 0.81}} = \\frac{1}{\\sqrt{0.19}} \\approx 2.294\n",
        "$$\n",
        "\n",
        "### Paso 2: Calcular el Momento Relativista (\\(p\\))\n",
        "El momento relativista \\(p\\) se diferencia del momento clásico por el factor de Lorentz $\\gamma$:\n",
        "\n",
        "$$\n",
        "p = \\gamma m v\n",
        "$$\n",
        "\n",
        "$$\n",
        "p = 2.294* mv\n",
        "$$\n",
        "\n",
        "### Paso 3: Calcular la Longitud de Onda de De Broglie $\\lambda$\n",
        "La longitud de onda de De Broglie de una partícula se calcula utilizando la fórmula:\n",
        "\n",
        "$$\n",
        "\\lambda = \\frac{h}{p}\n",
        "$$"
      ],
      "metadata": {
        "id": "vBGt6dzkOJkJ"
      }
    },
    {
      "cell_type": "code",
      "source": [
        "import math\n",
        "\n",
        "# Constantes\n",
        "c = 3.00e8  # Velocidad de la luz en m/s\n",
        "m = 9.109e-31  # Masa en reposo del electrón en kg\n",
        "h = 6.626e-34  # Constante de Planck en Js\n",
        "v = 0.5 * c  # Velocidad del electrón en múltiplos de c\n",
        "\n",
        "# Cálculo del factor gamma (γ) de Lorentz\n",
        "gamma = 1 / math.sqrt(1 - (v / c)**2)\n",
        "\n",
        "# Cálculo del momento (p) del electrón\n",
        "p = gamma * m * v\n",
        "\n",
        "# Cálculo de la longitud de onda de De Broglie (λ)\n",
        "lambda_de_broglie = h / p\n",
        "\n",
        "print(f\"La longitud de onda de De Broglie del electrón es: {lambda_de_broglie:.2e} m\")\n"
      ],
      "metadata": {
        "colab": {
          "base_uri": "https://localhost:8080/"
        },
        "id": "PK_deHDuHMk3",
        "outputId": "f3a6b876-f656-4ff3-d7aa-3fd00357ebfc"
      },
      "execution_count": null,
      "outputs": [
        {
          "output_type": "stream",
          "name": "stdout",
          "text": [
            "La longitud de onda de De Broglie del electrón es: 3.46e-13 m\n"
          ]
        }
      ]
    },
    {
      "cell_type": "markdown",
      "source": [
        "# RADIACIÓN DEL CUERPO NEGRO"
      ],
      "metadata": {
        "id": "E7kLClretWlQ"
      }
    },
    {
      "cell_type": "markdown",
      "source": [],
      "metadata": {
        "id": "ntRU4jdJtcB3"
      }
    },
    {
      "cell_type": "code",
      "source": [],
      "metadata": {
        "id": "W5-CXwzAtbr9"
      },
      "execution_count": null,
      "outputs": []
    }
  ]
}